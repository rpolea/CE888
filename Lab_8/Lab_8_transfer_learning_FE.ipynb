{
  "nbformat": 4,
  "nbformat_minor": 0,
  "metadata": {
    "accelerator": "GPU",
    "colab": {
      "name": "Lab 8: transfer_learning_FE.ipynb",
      "provenance": [],
      "collapsed_sections": [],
      "include_colab_link": true
    },
    "kernelspec": {
      "display_name": "Python 3",
      "name": "python3"
    }
  },
  "cells": [
    {
      "cell_type": "markdown",
      "metadata": {
        "id": "view-in-github",
        "colab_type": "text"
      },
      "source": [
        "<a href=\"https://colab.research.google.com/github/rpolea/CE888/blob/main/Lab_8/Lab_8_transfer_learning_FE.ipynb\" target=\"_parent\"><img src=\"https://colab.research.google.com/assets/colab-badge.svg\" alt=\"Open In Colab\"/></a>"
      ]
    },
    {
      "cell_type": "code",
      "metadata": {
        "colab": {
          "base_uri": "https://localhost:8080/"
        },
        "id": "N9LSvfbBYYX1",
        "outputId": "5a39b1a1-ce36-4266-fc61-99f653532deb"
      },
      "source": [
        "import os\n",
        "!git clone https://github.com/sagihaider/CE888_2021.git"
      ],
      "execution_count": 2,
      "outputs": [
        {
          "output_type": "stream",
          "text": [
            "Cloning into 'CE888_2021'...\n",
            "remote: Enumerating objects: 381, done.\u001b[K\n",
            "remote: Counting objects: 100% (191/191), done.\u001b[K\n",
            "remote: Compressing objects: 100% (172/172), done.\u001b[K\n",
            "remote: Total 381 (delta 120), reused 30 (delta 17), pack-reused 190\u001b[K\n",
            "Receiving objects: 100% (381/381), 20.57 MiB | 12.68 MiB/s, done.\n",
            "Resolving deltas: 100% (190/190), done.\n"
          ],
          "name": "stdout"
        }
      ]
    },
    {
      "cell_type": "code",
      "metadata": {
        "colab": {
          "base_uri": "https://localhost:8080/"
        },
        "id": "5IjjNPScYpvm",
        "outputId": "c08605a9-c316-40f7-a300-31cd884d446c"
      },
      "source": [
        "# Unzip training data\n",
        "from zipfile import ZipFile\n",
        "file_name = \"/content/CE888_2021/Lab_8/data.zip\"\n",
        "with ZipFile(file_name, 'r') as zip:\n",
        "  zip.extractall()\n",
        "  print('done')"
      ],
      "execution_count": 3,
      "outputs": [
        {
          "output_type": "stream",
          "text": [
            "done\n"
          ],
          "name": "stdout"
        }
      ]
    },
    {
      "cell_type": "code",
      "metadata": {
        "colab": {
          "base_uri": "https://localhost:8080/"
        },
        "id": "rCCkuX0pYu3R",
        "outputId": "18198075-cae8-464c-eb94-6d3093983bdb"
      },
      "source": [
        "# Get all the paths\n",
        "data_dir_list = os.listdir('/content/data')\n",
        "#print(data_dir_list)\n",
        "path, dirs, files = next(os.walk(\"/content/data\"))\n",
        "file_count = len(files)\n",
        "print(file_count)"
      ],
      "execution_count": 4,
      "outputs": [
        {
          "output_type": "stream",
          "text": [
            "0\n"
          ],
          "name": "stdout"
        }
      ]
    },
    {
      "cell_type": "code",
      "metadata": {
        "id": "SRUMCMD8Yx3v"
      },
      "source": [
        "# Make new base directory\n",
        "original_dataset_dir = 'data/cats'\n",
        "original_dataset_dir1 = 'data/dogs'\n",
        "original_dataset_dir2 = 'data/Humans'\n",
        "original_dataset_dir3 = 'data/horses'\n",
        "base_dir = '/content/animals1'\n",
        "os.mkdir(base_dir)"
      ],
      "execution_count": 5,
      "outputs": []
    },
    {
      "cell_type": "code",
      "metadata": {
        "id": "vXDoSMSBY08a"
      },
      "source": [
        "train_dir = os.path.join(base_dir, 'train')\n",
        "os.mkdir(train_dir)\n",
        "\n",
        "validation_dir = os.path.join(base_dir, 'validation')\n",
        "os.mkdir(validation_dir)\n",
        "\n",
        "test_dir = os.path.join(base_dir, 'test')\n",
        "os.mkdir(test_dir)"
      ],
      "execution_count": 6,
      "outputs": []
    },
    {
      "cell_type": "code",
      "metadata": {
        "id": "__ivJGleY72P"
      },
      "source": [
        "import shutil\n",
        "fnames = ['cat.{}.jpg'.format(i) for i in range(121)]\n",
        "for fname in fnames:\n",
        "  try:\n",
        "    src = os.path.join(original_dataset_dir, fname)\n",
        "    dst = os.path.join(train_dir, fname)\n",
        "    #print(src,dst)\n",
        "    shutil.copyfile(src, dst)\n",
        "  except IOError:\n",
        "      pass\n",
        "    \n",
        "fnames = ['cat.{}.jpg'.format(i) for i in range(121, 163)]\n",
        "for fname in fnames:\n",
        "  try:\n",
        "    src = os.path.join(original_dataset_dir, fname)\n",
        "    dst = os.path.join(validation_dir, fname)\n",
        "    shutil.copyfile(src, dst)\n",
        "  except IOError:\n",
        "      pass\n",
        "\n",
        "fnames = ['cat.{}.jpg'.format(i) for i in range(163, 203)]\n",
        "for fname in fnames:\n",
        "  try:\n",
        "    src = os.path.join(original_dataset_dir, fname)\n",
        "    dst = os.path.join(test_dir, fname)\n",
        "    shutil.copyfile(src, dst)\n",
        "  except IOError:\n",
        "      pass\n",
        "    \n",
        "fnames = ['dog.{}.jpg'.format(i) for i in range(121)]\n",
        "for fname in fnames:\n",
        "  try:\n",
        "    src = os.path.join(original_dataset_dir1, fname)\n",
        "    dst = os.path.join(train_dir, fname)\n",
        "    shutil.copyfile(src, dst)\n",
        "  except IOError:\n",
        "      pass\n",
        "\n",
        "fnames = ['dog.{}.jpg'.format(i) for i in range(121, 163)]\n",
        "for fname in fnames:\n",
        "  try:\n",
        "    src = os.path.join(original_dataset_dir1, fname)\n",
        "    dst = os.path.join(validation_dir, fname)\n",
        "    shutil.copyfile(src, dst)\n",
        "  except IOError:\n",
        "      pass\n",
        "\n",
        "fnames = ['dog.{}.jpg'.format(i) for i in range(163, 203)]\n",
        "for fname in fnames:\n",
        "  try:\n",
        "    src = os.path.join(original_dataset_dir1, fname)\n",
        "    dst = os.path.join(test_dir, fname)\n",
        "    shutil.copyfile(src, dst)\n",
        "  except IOError:\n",
        "      pass\n",
        "\n",
        "fnames = ['horse-{}.jpg'.format(i) for i in range(121)]\n",
        "for fname in fnames:\n",
        "  try:\n",
        "    src = os.path.join(original_dataset_dir3, fname)\n",
        "    dst = os.path.join(train_dir, fname)\n",
        "    #print(src,dst)\n",
        "    shutil.copyfile(src, dst)\n",
        "  except IOError:\n",
        "      pass\n",
        "    \n",
        "fnames = ['horse-{}.jpg'.format(i) for i in range(121, 163)]\n",
        "for fname in fnames:\n",
        "  try:\n",
        "    src = os.path.join(original_dataset_dir3, fname)\n",
        "    dst = os.path.join(validation_dir, fname)\n",
        "    shutil.copyfile(src, dst)\n",
        "  except IOError:\n",
        "      pass\n",
        "\n",
        "fnames = ['horse-{}.jpg'.format(i) for i in range(163, 203)]\n",
        "for fname in fnames:\n",
        "  try:\n",
        "    src = os.path.join(original_dataset_dir3, fname)\n",
        "    dst = os.path.join(test_dir, fname)\n",
        "    shutil.copyfile(src, dst)\n",
        "  except IOError:\n",
        "      pass\n",
        "    \n",
        "fnames = ['rider-{}.jpg'.format(i) for i in range(121)]\n",
        "for fname in fnames:\n",
        "  try:\n",
        "    src = os.path.join(original_dataset_dir2, fname)\n",
        "    dst = os.path.join(train_dir, fname)\n",
        "    shutil.copyfile(src, dst)\n",
        "  except IOError:\n",
        "      pass\n",
        "\n",
        "fnames = ['rider-{}.jpg'.format(i) for i in range(121, 163)]\n",
        "for fname in fnames:\n",
        "  try:\n",
        "    src = os.path.join(original_dataset_dir2, fname)\n",
        "    dst = os.path.join(validation_dir, fname)\n",
        "    shutil.copyfile(src, dst)\n",
        "  except IOError:\n",
        "      pass\n",
        "\n",
        "fnames = ['rider-{}.jpg'.format(i) for i in range(163, 203)]\n",
        "for fname in fnames:\n",
        "  try:\n",
        "    src = os.path.join(original_dataset_dir2, fname)\n",
        "    dst = os.path.join(test_dir, fname)\n",
        "    shutil.copyfile(src, dst)\n",
        "  except IOError:\n",
        "      pass"
      ],
      "execution_count": 7,
      "outputs": []
    },
    {
      "cell_type": "code",
      "metadata": {
        "id": "CmggYVP9ZB3b"
      },
      "source": [
        "import cv2\n",
        "import numpy as np\n",
        "from random import shuffle\n",
        "\n",
        "IMG_SIZE = 224\n",
        "LR = 1e-4"
      ],
      "execution_count": 8,
      "outputs": []
    },
    {
      "cell_type": "code",
      "metadata": {
        "id": "SxrfByB9ZJpH"
      },
      "source": [
        "def label_img(img):\n",
        "    word_label = img.split('.')[0]\n",
        "    word_label1 = img.split('-')[0]\n",
        "    if word_label == 'dog': return [1,0,0,0]\n",
        "    elif word_label == 'cat': return [0,1,0,0]\n",
        "    elif word_label1 == 'horse': return [0,0,1,0]\n",
        "    elif word_label1 == 'rider': return [0,0,0,1]"
      ],
      "execution_count": 9,
      "outputs": []
    },
    {
      "cell_type": "code",
      "metadata": {
        "id": "_8Gr22u-ZRcX"
      },
      "source": [
        "def createDataSplitSet(datapath):\n",
        "    X=[]\n",
        "    y=[]\n",
        "\n",
        "    for img in os.listdir(datapath):\n",
        "        label = label_img(img)\n",
        "        # print(label)\n",
        "        path = os.path.join(datapath, img)\n",
        "        image = cv2.resize(cv2.imread(path), (IMG_SIZE, IMG_SIZE))\n",
        "        image = cv2.normalize(image, None, alpha=0, beta=1, norm_type=cv2.NORM_MINMAX, dtype=cv2.CV_32F)\n",
        "\n",
        "        X.append(np.array(image))\n",
        "        y.append(label)\n",
        "\n",
        "    return np.array(X), np.array(y)"
      ],
      "execution_count": 10,
      "outputs": []
    },
    {
      "cell_type": "code",
      "metadata": {
        "id": "Sk6Y5bMqZWBS"
      },
      "source": [
        "train_X, train_y = createDataSplitSet(train_dir)\n",
        "val_X, val_y = createDataSplitSet(validation_dir)\n",
        "test_X, test_y = createDataSplitSet(test_dir)"
      ],
      "execution_count": 11,
      "outputs": []
    },
    {
      "cell_type": "code",
      "metadata": {
        "id": "7nTUMu2mmWz3"
      },
      "source": [
        "## VGG 16\n",
        "from tensorflow.keras.applications import VGG16\n",
        "from tensorflow.keras.layers import Dense, Input\n",
        "from tensorflow.keras import Model\n",
        "\n",
        "img_input = Input(shape=(IMG_SIZE, IMG_SIZE, 3))"
      ],
      "execution_count": 12,
      "outputs": []
    },
    {
      "cell_type": "code",
      "metadata": {
        "colab": {
          "base_uri": "https://localhost:8080/"
        },
        "id": "GYUVnLnCmaeq",
        "outputId": "201e7f35-e0ff-4f38-cf4a-d8a6959a308f"
      },
      "source": [
        "model = VGG16(\n",
        "    include_top=True,\n",
        "    weights=\"imagenet\",\n",
        "    input_tensor=img_input,\n",
        "    input_shape=None,\n",
        "    pooling=None,\n",
        "    classes=1000,\n",
        "    classifier_activation=\"softmax\")\n",
        "model.summary()"
      ],
      "execution_count": 13,
      "outputs": [
        {
          "output_type": "stream",
          "text": [
            "Downloading data from https://storage.googleapis.com/tensorflow/keras-applications/vgg16/vgg16_weights_tf_dim_ordering_tf_kernels.h5\n",
            "553467904/553467096 [==============================] - 6s 0us/step\n",
            "Model: \"vgg16\"\n",
            "_________________________________________________________________\n",
            "Layer (type)                 Output Shape              Param #   \n",
            "=================================================================\n",
            "input_1 (InputLayer)         [(None, 224, 224, 3)]     0         \n",
            "_________________________________________________________________\n",
            "block1_conv1 (Conv2D)        (None, 224, 224, 64)      1792      \n",
            "_________________________________________________________________\n",
            "block1_conv2 (Conv2D)        (None, 224, 224, 64)      36928     \n",
            "_________________________________________________________________\n",
            "block1_pool (MaxPooling2D)   (None, 112, 112, 64)      0         \n",
            "_________________________________________________________________\n",
            "block2_conv1 (Conv2D)        (None, 112, 112, 128)     73856     \n",
            "_________________________________________________________________\n",
            "block2_conv2 (Conv2D)        (None, 112, 112, 128)     147584    \n",
            "_________________________________________________________________\n",
            "block2_pool (MaxPooling2D)   (None, 56, 56, 128)       0         \n",
            "_________________________________________________________________\n",
            "block3_conv1 (Conv2D)        (None, 56, 56, 256)       295168    \n",
            "_________________________________________________________________\n",
            "block3_conv2 (Conv2D)        (None, 56, 56, 256)       590080    \n",
            "_________________________________________________________________\n",
            "block3_conv3 (Conv2D)        (None, 56, 56, 256)       590080    \n",
            "_________________________________________________________________\n",
            "block3_pool (MaxPooling2D)   (None, 28, 28, 256)       0         \n",
            "_________________________________________________________________\n",
            "block4_conv1 (Conv2D)        (None, 28, 28, 512)       1180160   \n",
            "_________________________________________________________________\n",
            "block4_conv2 (Conv2D)        (None, 28, 28, 512)       2359808   \n",
            "_________________________________________________________________\n",
            "block4_conv3 (Conv2D)        (None, 28, 28, 512)       2359808   \n",
            "_________________________________________________________________\n",
            "block4_pool (MaxPooling2D)   (None, 14, 14, 512)       0         \n",
            "_________________________________________________________________\n",
            "block5_conv1 (Conv2D)        (None, 14, 14, 512)       2359808   \n",
            "_________________________________________________________________\n",
            "block5_conv2 (Conv2D)        (None, 14, 14, 512)       2359808   \n",
            "_________________________________________________________________\n",
            "block5_conv3 (Conv2D)        (None, 14, 14, 512)       2359808   \n",
            "_________________________________________________________________\n",
            "block5_pool (MaxPooling2D)   (None, 7, 7, 512)         0         \n",
            "_________________________________________________________________\n",
            "flatten (Flatten)            (None, 25088)             0         \n",
            "_________________________________________________________________\n",
            "fc1 (Dense)                  (None, 4096)              102764544 \n",
            "_________________________________________________________________\n",
            "fc2 (Dense)                  (None, 4096)              16781312  \n",
            "_________________________________________________________________\n",
            "predictions (Dense)          (None, 1000)              4097000   \n",
            "=================================================================\n",
            "Total params: 138,357,544\n",
            "Trainable params: 138,357,544\n",
            "Non-trainable params: 0\n",
            "_________________________________________________________________\n"
          ],
          "name": "stdout"
        }
      ]
    },
    {
      "cell_type": "code",
      "metadata": {
        "colab": {
          "base_uri": "https://localhost:8080/"
        },
        "id": "njmi9mhZm5KQ",
        "outputId": "d03a9d1b-bafd-41fa-867d-34573f9f1cf8"
      },
      "source": [
        "last_layer = model.get_layer('fc2').output\n",
        "out = Dense(4, activation='softmax', name='output')(last_layer)  ## 2 classes\n",
        "model = Model(img_input, out)\n",
        "\n",
        "for layer in model.layers[:-1]:\n",
        "\tlayer.trainable = False\n",
        "\n",
        "model.summary()"
      ],
      "execution_count": 14,
      "outputs": [
        {
          "output_type": "stream",
          "text": [
            "Model: \"model\"\n",
            "_________________________________________________________________\n",
            "Layer (type)                 Output Shape              Param #   \n",
            "=================================================================\n",
            "input_1 (InputLayer)         [(None, 224, 224, 3)]     0         \n",
            "_________________________________________________________________\n",
            "block1_conv1 (Conv2D)        (None, 224, 224, 64)      1792      \n",
            "_________________________________________________________________\n",
            "block1_conv2 (Conv2D)        (None, 224, 224, 64)      36928     \n",
            "_________________________________________________________________\n",
            "block1_pool (MaxPooling2D)   (None, 112, 112, 64)      0         \n",
            "_________________________________________________________________\n",
            "block2_conv1 (Conv2D)        (None, 112, 112, 128)     73856     \n",
            "_________________________________________________________________\n",
            "block2_conv2 (Conv2D)        (None, 112, 112, 128)     147584    \n",
            "_________________________________________________________________\n",
            "block2_pool (MaxPooling2D)   (None, 56, 56, 128)       0         \n",
            "_________________________________________________________________\n",
            "block3_conv1 (Conv2D)        (None, 56, 56, 256)       295168    \n",
            "_________________________________________________________________\n",
            "block3_conv2 (Conv2D)        (None, 56, 56, 256)       590080    \n",
            "_________________________________________________________________\n",
            "block3_conv3 (Conv2D)        (None, 56, 56, 256)       590080    \n",
            "_________________________________________________________________\n",
            "block3_pool (MaxPooling2D)   (None, 28, 28, 256)       0         \n",
            "_________________________________________________________________\n",
            "block4_conv1 (Conv2D)        (None, 28, 28, 512)       1180160   \n",
            "_________________________________________________________________\n",
            "block4_conv2 (Conv2D)        (None, 28, 28, 512)       2359808   \n",
            "_________________________________________________________________\n",
            "block4_conv3 (Conv2D)        (None, 28, 28, 512)       2359808   \n",
            "_________________________________________________________________\n",
            "block4_pool (MaxPooling2D)   (None, 14, 14, 512)       0         \n",
            "_________________________________________________________________\n",
            "block5_conv1 (Conv2D)        (None, 14, 14, 512)       2359808   \n",
            "_________________________________________________________________\n",
            "block5_conv2 (Conv2D)        (None, 14, 14, 512)       2359808   \n",
            "_________________________________________________________________\n",
            "block5_conv3 (Conv2D)        (None, 14, 14, 512)       2359808   \n",
            "_________________________________________________________________\n",
            "block5_pool (MaxPooling2D)   (None, 7, 7, 512)         0         \n",
            "_________________________________________________________________\n",
            "flatten (Flatten)            (None, 25088)             0         \n",
            "_________________________________________________________________\n",
            "fc1 (Dense)                  (None, 4096)              102764544 \n",
            "_________________________________________________________________\n",
            "fc2 (Dense)                  (None, 4096)              16781312  \n",
            "_________________________________________________________________\n",
            "output (Dense)               (None, 4)                 16388     \n",
            "=================================================================\n",
            "Total params: 134,276,932\n",
            "Trainable params: 16,388\n",
            "Non-trainable params: 134,260,544\n",
            "_________________________________________________________________\n"
          ],
          "name": "stdout"
        }
      ]
    },
    {
      "cell_type": "code",
      "metadata": {
        "id": "8zlF94nhnA1M"
      },
      "source": [
        "model.compile(loss='categorical_crossentropy',\n",
        "              optimizer='adam',\n",
        "              metrics=['acc'])"
      ],
      "execution_count": 15,
      "outputs": []
    },
    {
      "cell_type": "code",
      "metadata": {
        "id": "3M_A0INHnEUs"
      },
      "source": [
        "from tensorflow.keras.callbacks import EarlyStopping, ModelCheckpoint\n",
        "my_callbacks = [\n",
        "    EarlyStopping(monitor='val_loss', patience=10, restore_best_weights=True),\n",
        "    ModelCheckpoint(filepath='vgg16_model.h5', save_best_only=True),\n",
        "]"
      ],
      "execution_count": 16,
      "outputs": []
    },
    {
      "cell_type": "code",
      "metadata": {
        "id": "YVIP4RvWsQGK",
        "colab": {
          "base_uri": "https://localhost:8080/"
        },
        "outputId": "a158d202-6503-40a9-a8d7-8fd136b7f0e1"
      },
      "source": [
        "history = model.fit(train_X, train_y,\n",
        "                               batch_size=10,\n",
        "                               epochs=10, \n",
        "                               validation_data=(val_X, val_y),\n",
        "                               callbacks=my_callbacks)"
      ],
      "execution_count": 17,
      "outputs": [
        {
          "output_type": "stream",
          "text": [
            "Epoch 1/10\n",
            "48/48 [==============================] - 20s 49ms/step - loss: 1.6686 - acc: 0.3080 - val_loss: 0.6992 - val_acc: 0.7560\n",
            "Epoch 2/10\n",
            "48/48 [==============================] - 1s 28ms/step - loss: 0.6486 - acc: 0.7557 - val_loss: 0.4982 - val_acc: 0.8690\n",
            "Epoch 3/10\n",
            "48/48 [==============================] - 1s 28ms/step - loss: 0.5044 - acc: 0.8102 - val_loss: 0.4417 - val_acc: 0.8274\n",
            "Epoch 4/10\n",
            "48/48 [==============================] - 1s 27ms/step - loss: 0.4132 - acc: 0.8533 - val_loss: 0.4705 - val_acc: 0.8214\n",
            "Epoch 5/10\n",
            "48/48 [==============================] - 1s 26ms/step - loss: 0.4090 - acc: 0.8481 - val_loss: 0.5283 - val_acc: 0.8095\n",
            "Epoch 6/10\n",
            "48/48 [==============================] - 1s 27ms/step - loss: 0.4136 - acc: 0.8329 - val_loss: 0.2983 - val_acc: 0.9048\n",
            "Epoch 7/10\n",
            "48/48 [==============================] - 1s 28ms/step - loss: 0.3783 - acc: 0.8658 - val_loss: 0.2667 - val_acc: 0.9107\n",
            "Epoch 8/10\n",
            "48/48 [==============================] - 1s 27ms/step - loss: 0.2718 - acc: 0.9086 - val_loss: 0.3288 - val_acc: 0.8929\n",
            "Epoch 9/10\n",
            "48/48 [==============================] - 1s 28ms/step - loss: 0.3162 - acc: 0.8774 - val_loss: 0.4225 - val_acc: 0.8393\n",
            "Epoch 10/10\n",
            "48/48 [==============================] - 1s 27ms/step - loss: 0.3337 - acc: 0.8790 - val_loss: 0.2441 - val_acc: 0.9226\n"
          ],
          "name": "stdout"
        }
      ]
    },
    {
      "cell_type": "code",
      "metadata": {
        "id": "obrwH58LrVr6",
        "colab": {
          "base_uri": "https://localhost:8080/",
          "height": 545
        },
        "outputId": "7529c6ae-47c2-4fe4-ce5b-0b9429afd6ba"
      },
      "source": [
        "import matplotlib.pyplot as plt\n",
        "\n",
        "acc = history.history['acc']\n",
        "val_acc = history.history['val_acc']\n",
        "loss = history.history['loss']\n",
        "val_loss = history.history['val_loss']\n",
        "\n",
        "epochs = range(1, len(acc) + 1)\n",
        "\n",
        "plt.plot(epochs, acc, 'bo', label='Training acc')\n",
        "plt.plot(epochs, val_acc, 'b', label='Validation acc')\n",
        "plt.title('Training and validation accuracy')\n",
        "plt.legend()\n",
        "\n",
        "plt.figure()\n",
        "\n",
        "plt.plot(epochs, loss, 'bo', label='Training loss')\n",
        "plt.plot(epochs, val_loss, 'b', label='Validation loss')\n",
        "plt.title('Training and validation loss')\n",
        "plt.legend()\n",
        "\n",
        "plt.show()"
      ],
      "execution_count": 18,
      "outputs": [
        {
          "output_type": "display_data",
          "data": {
            "image/png": "[encoded data removed]",
            "text/plain": [
              "<Figure size 432x288 with 1 Axes>"
            ]
          },
          "metadata": {
            "tags": [],
            "needs_background": "light"
          }
        },
        {
          "output_type": "display_data",
          "data": {
            "image/png": "[encoded data removed]",
            "text/plain": [
              "<Figure size 432x288 with 1 Axes>"
            ]
          },
          "metadata": {
            "tags": [],
            "needs_background": "light"
          }
        }
      ]
    },
    {
      "cell_type": "code",
      "metadata": {
        "id": "juEQi2ubrZD3",
        "colab": {
          "base_uri": "https://localhost:8080/"
        },
        "outputId": "49a50232-f961-4843-9cd0-d67cb1431a5a"
      },
      "source": [
        "from sklearn.metrics import accuracy_score\n",
        "class_labels = ['cat','dog','horse','human']\n",
        "## Test Accuracy\n",
        "predictions = model.predict(test_X)\n",
        "ypred = np.argmax(predictions)\n",
        "\n",
        "print(classification_report(test_y, pred_labels, target_names= class_labels))"
      ],
      "execution_count": 33,
      "outputs": [
        {
          "output_type": "stream",
          "text": [
            "              precision    recall  f1-score   support\n",
            "\n",
            "         cat       0.91      0.80      0.85        40\n",
            "         dog       0.84      0.95      0.89        40\n",
            "       horse       0.95      0.95      0.95        40\n",
            "       human       0.90      0.90      0.90        40\n",
            "\n",
            "   micro avg       0.90      0.90      0.90       160\n",
            "   macro avg       0.90      0.90      0.90       160\n",
            "weighted avg       0.90      0.90      0.90       160\n",
            " samples avg       0.90      0.90      0.90       160\n",
            "\n"
          ],
          "name": "stdout"
        }
      ]
    }
  ]
}