{
  "nbformat": 4,
  "nbformat_minor": 0,
  "metadata": {
    "colab": {
      "name": "Copy of Exercise2_DogvsCat_CNN2.ipynb",
      "provenance": [],
      "include_colab_link": true
    },
    "kernelspec": {
      "name": "python3",
      "display_name": "Python 3"
    },
    "accelerator": "GPU"
  },
  "cells": [
    {
      "cell_type": "markdown",
      "metadata": {
        "id": "view-in-github",
        "colab_type": "text"
      },
      "source": [
        "<a href=\"https://colab.research.google.com/github/rpolea/CE888/blob/main/Lab_7/Exercise2_DogvsCat_CNN2.ipynb\" target=\"_parent\"><img src=\"https://colab.research.google.com/assets/colab-badge.svg\" alt=\"Open In Colab\"/></a>"
      ]
    },
    {
      "cell_type": "markdown",
      "metadata": {
        "id": "qTh9DiKVslsJ"
      },
      "source": [
        "## Dogs vs. Cats \n",
        "\n",
        "In this competition, you'll write an algorithm to classify whether images contain either a dog or a cat.  This is easy for humans, dogs, and cats. Your computer will find it a bit more difficult.\n",
        "\n",
        "![alt text](https://miro.medium.com/max/3000/1*bhFifratH9DjKqMBTeQG5A.gif)\n",
        "\n",
        "Ref: https://medium.com/@thegrigorian/rolling-in-the-deep-cnn-c8d3f7108c8c"
      ]
    },
    {
      "cell_type": "markdown",
      "metadata": {
        "id": "RSBI-_mSSY1g"
      },
      "source": [
        "Get your API Key from Kaggle using following steps:\n",
        "1. Login to [Kaggle](https://www.kaggle.com/) or Register if you don't have account\n",
        "2. Open Dataset (https://www.kaggle.com/c/dogs-vs-cats/rules) and accept terms and condition. \n",
        "3. On the top right corner click on your Icon and go to accounts and press a button \"Create New API Token\". It will download a JSON file containing your username and key. \n",
        "4. Now, paste both below. \n"
      ]
    },
    {
      "cell_type": "code",
      "metadata": {
        "id": "YmXSOc0tZIGA",
        "colab": {
          "base_uri": "https://localhost:8080/"
        },
        "outputId": "f5aa664b-9bba-4109-cb9a-1bd5ebd587b7"
      },
      "source": [
        "import os\n",
        "os.environ['KAGGLE_USERNAME'] = \"ryanomissenden\" # username from the json file\n",
        "os.environ['KAGGLE_KEY'] = \"98c4cfb0843d6de05a2852a6cbff5e7f\" # key from the json file\n",
        "!kaggle competitions download -c dogs-vs-cats # api copied from kaggle (https://www.kaggle.com/c/dogs-vs-cats/data)"
      ],
      "execution_count": 1,
      "outputs": [
        {
          "output_type": "stream",
          "text": [
            "Warning: Looks like you're using an outdated API Version, please consider updating (server 1.5.10 / client 1.5.4)\n",
            "Downloading test1.zip to /content\n",
            " 96% 259M/271M [00:02<00:00, 75.7MB/s]\n",
            "100% 271M/271M [00:02<00:00, 119MB/s] \n",
            "Downloading train.zip to /content\n",
            " 96% 520M/543M [00:03<00:00, 219MB/s]\n",
            "100% 543M/543M [00:03<00:00, 177MB/s]\n",
            "Downloading sampleSubmission.csv to /content\n",
            "  0% 0.00/86.8k [00:00<?, ?B/s]\n",
            "100% 86.8k/86.8k [00:00<00:00, 84.9MB/s]\n"
          ],
          "name": "stdout"
        }
      ]
    },
    {
      "cell_type": "code",
      "metadata": {
        "id": "PiwIL8d1n7eS",
        "colab": {
          "base_uri": "https://localhost:8080/"
        },
        "outputId": "37c860c2-69f9-4981-ec97-fe3992bcafaa"
      },
      "source": [
        "# Unzip training data\n",
        "from zipfile import ZipFile\n",
        "file_name = \"/content/train.zip\"\n",
        "with ZipFile(file_name, 'r') as zip:\n",
        "  zip.extractall()\n",
        "  print('done')"
      ],
      "execution_count": 2,
      "outputs": [
        {
          "output_type": "stream",
          "text": [
            "done\n"
          ],
          "name": "stdout"
        }
      ]
    },
    {
      "cell_type": "code",
      "metadata": {
        "id": "sa2Bj5i7pPKV",
        "colab": {
          "base_uri": "https://localhost:8080/"
        },
        "outputId": "cac1d073-7244-4cb8-966e-b1551d5c3c49"
      },
      "source": [
        "# Get all the paths\n",
        "data_dir_list = os.listdir('/content/train')\n",
        "#print(data_dir_list)\n",
        "path, dirs, files = next(os.walk(\"/content/train\"))\n",
        "file_count = len(files)\n",
        "print(file_count)"
      ],
      "execution_count": 3,
      "outputs": [
        {
          "output_type": "stream",
          "text": [
            "25000\n"
          ],
          "name": "stdout"
        }
      ]
    },
    {
      "cell_type": "code",
      "metadata": {
        "id": "0ERlHkfHqpK8"
      },
      "source": [
        "# Make new base directory\n",
        "original_dataset_dir = '/content/train'\n",
        "base_dir = '/content/cats_and_dogs_small'\n",
        "os.mkdir(base_dir)"
      ],
      "execution_count": 4,
      "outputs": []
    },
    {
      "cell_type": "code",
      "metadata": {
        "id": "AANB1UJ6rQhM"
      },
      "source": [
        "train_dir = os.path.join(base_dir, 'train')\n",
        "os.mkdir(train_dir)\n",
        "\n",
        "validation_dir = os.path.join(base_dir, 'validation')\n",
        "os.mkdir(validation_dir)\n",
        "\n",
        "test_dir = os.path.join(base_dir, 'test')\n",
        "os.mkdir(test_dir)\n",
        "\n",
        "train_cats_dir = os.path.join(train_dir, 'cats')\n",
        "os.mkdir(train_cats_dir)\n",
        "\n",
        "train_dogs_dir = os.path.join(train_dir, 'dogs')\n",
        "os.mkdir(train_dogs_dir)\n",
        "\n",
        "validation_cats_dir = os.path.join(validation_dir, 'cats')\n",
        "os.mkdir(validation_cats_dir)\n",
        "\n",
        "validation_dogs_dir = os.path.join(validation_dir, 'dogs')\n",
        "os.mkdir(validation_dogs_dir)\n",
        "\n",
        "test_cats_dir = os.path.join(test_dir, 'cats')\n",
        "os.mkdir(test_cats_dir)\n",
        "\n",
        "test_dogs_dir = os.path.join(test_dir, 'dogs')\n",
        "os.mkdir(test_dogs_dir)"
      ],
      "execution_count": 5,
      "outputs": []
    },
    {
      "cell_type": "code",
      "metadata": {
        "id": "ULRgL9s9rV8T"
      },
      "source": [
        "import shutil\n",
        "fnames = ['cat.{}.jpg'.format(i) for i in range(1000)]\n",
        "for fname in fnames:\n",
        "    src = os.path.join(original_dataset_dir, fname)\n",
        "    dst = os.path.join(train_cats_dir, fname)\n",
        "    #print(src,dst)\n",
        "    shutil.copyfile(src, dst)\n",
        "    \n",
        "fnames = ['cat.{}.jpg'.format(i) for i in range(1000, 1500)]\n",
        "for fname in fnames:\n",
        "    src = os.path.join(original_dataset_dir, fname)\n",
        "    dst = os.path.join(validation_cats_dir, fname)\n",
        "    shutil.copyfile(src, dst)\n",
        "\n",
        "fnames = ['cat.{}.jpg'.format(i) for i in range(1500, 2000)]\n",
        "for fname in fnames:\n",
        "    src = os.path.join(original_dataset_dir, fname)\n",
        "    dst = os.path.join(test_cats_dir, fname)\n",
        "    shutil.copyfile(src, dst)\n",
        "    \n",
        "fnames = ['dog.{}.jpg'.format(i) for i in range(1000)]\n",
        "for fname in fnames:\n",
        "    src = os.path.join(original_dataset_dir, fname)\n",
        "    dst = os.path.join(train_dogs_dir, fname)\n",
        "    shutil.copyfile(src, dst)\n",
        "\n",
        "fnames = ['dog.{}.jpg'.format(i) for i in range(1000, 1500)]\n",
        "for fname in fnames:\n",
        "    src = os.path.join(original_dataset_dir, fname)\n",
        "    dst = os.path.join(validation_dogs_dir, fname)\n",
        "    shutil.copyfile(src, dst)\n",
        "\n",
        "fnames = ['dog.{}.jpg'.format(i) for i in range(1500, 2000)]\n",
        "for fname in fnames:\n",
        "    src = os.path.join(original_dataset_dir, fname)\n",
        "    dst = os.path.join(test_dogs_dir, fname)\n",
        "    shutil.copyfile(src, dst)"
      ],
      "execution_count": 6,
      "outputs": []
    },
    {
      "cell_type": "code",
      "metadata": {
        "id": "ul3XAbIyr7vC",
        "colab": {
          "base_uri": "https://localhost:8080/"
        },
        "outputId": "e7045e06-ee4e-4c2d-8696-a15b9ed3a2ce"
      },
      "source": [
        "print('total training cat images:', len(os.listdir(train_cats_dir)))\n",
        "print('total training dog images:', len(os.listdir(train_dogs_dir)))\n",
        "print('total validation cat images:', len(os.listdir(validation_cats_dir)))\n",
        "\n",
        "print('total validation dog images:', len(os.listdir(validation_dogs_dir)))\n",
        "print('total test cat images:', len(os.listdir(test_cats_dir)))\n",
        "print('total test dog images:', len(os.listdir(test_dogs_dir)))"
      ],
      "execution_count": 7,
      "outputs": [
        {
          "output_type": "stream",
          "text": [
            "total training cat images: 1000\n",
            "total training dog images: 1000\n",
            "total validation cat images: 500\n",
            "total validation dog images: 500\n",
            "total test cat images: 500\n",
            "total test dog images: 500\n"
          ],
          "name": "stdout"
        }
      ]
    },
    {
      "cell_type": "code",
      "metadata": {
        "id": "o9yTA21_r-ma",
        "colab": {
          "base_uri": "https://localhost:8080/"
        },
        "outputId": "529f9438-196b-4600-c2d1-8d2c521cb1f8"
      },
      "source": [
        "from keras import layers\n",
        "from keras import models\n",
        "\n",
        "model = models.Sequential()\n",
        "model.add(layers.Conv2D(32, (3, 3), activation='relu', input_shape=(150, 150, 3)))\n",
        "model.add(layers.MaxPooling2D((2, 2)))\n",
        "model.add(layers.Conv2D(64, (3, 3), activation='relu'))\n",
        "model.add(layers.MaxPooling2D((2, 2)))\n",
        "model.add(layers.Conv2D(128, (3, 3), activation='relu'))\n",
        "model.add(layers.MaxPooling2D((2, 2)))\n",
        "model.add(layers.Conv2D(128, (3, 3), activation='relu'))\n",
        "model.add(layers.MaxPooling2D((2, 2)))\n",
        "model.add(layers.Flatten())\n",
        "model.add(layers.Dense(512, activation='relu'))\n",
        "model.add(layers.Dense(1, activation='sigmoid'))\n",
        "model.summary()"
      ],
      "execution_count": 42,
      "outputs": [
        {
          "output_type": "stream",
          "text": [
            "Model: \"sequential_16\"\n",
            "_________________________________________________________________\n",
            "Layer (type)                 Output Shape              Param #   \n",
            "=================================================================\n",
            "conv2d_50 (Conv2D)           (None, 148, 148, 32)      896       \n",
            "_________________________________________________________________\n",
            "max_pooling2d_50 (MaxPooling (None, 74, 74, 32)        0         \n",
            "_________________________________________________________________\n",
            "conv2d_51 (Conv2D)           (None, 72, 72, 64)        18496     \n",
            "_________________________________________________________________\n",
            "max_pooling2d_51 (MaxPooling (None, 36, 36, 64)        0         \n",
            "_________________________________________________________________\n",
            "conv2d_52 (Conv2D)           (None, 34, 34, 128)       73856     \n",
            "_________________________________________________________________\n",
            "max_pooling2d_52 (MaxPooling (None, 17, 17, 128)       0         \n",
            "_________________________________________________________________\n",
            "conv2d_53 (Conv2D)           (None, 15, 15, 128)       147584    \n",
            "_________________________________________________________________\n",
            "max_pooling2d_53 (MaxPooling (None, 7, 7, 128)         0         \n",
            "_________________________________________________________________\n",
            "flatten_12 (Flatten)         (None, 6272)              0         \n",
            "_________________________________________________________________\n",
            "dense_24 (Dense)             (None, 512)               3211776   \n",
            "_________________________________________________________________\n",
            "dense_25 (Dense)             (None, 1)                 513       \n",
            "=================================================================\n",
            "Total params: 3,453,121\n",
            "Trainable params: 3,453,121\n",
            "Non-trainable params: 0\n",
            "_________________________________________________________________\n"
          ],
          "name": "stdout"
        }
      ]
    },
    {
      "cell_type": "code",
      "metadata": {
        "id": "2mG8wekxsBVS"
      },
      "source": [
        "from keras import optimizers\n",
        "model.compile(loss='binary_crossentropy', \n",
        "              optimizer=optimizers.RMSprop(lr=1e-4),\n",
        "              metrics=['acc'])"
      ],
      "execution_count": 43,
      "outputs": []
    },
    {
      "cell_type": "markdown",
      "metadata": {
        "id": "7zS4Klm8qWp6"
      },
      "source": [
        "## Using ImageDataGenerator to read images from directories\n",
        "As you know by now, data should be formatted into appropriately preprocessed floatingpoint tensors before being fed into the network. Currently, the data sits on a drive as JPEG files, so the steps for getting it into the network are roughly as follows:\n",
        "\n",
        "* Read the picture files.\n",
        "* Decode the JPEG content to RGB grids of pixels.\n",
        "* Convert these into floating-point tensors.\n",
        "* Rescale the pixel values (between 0 and 255) to the [0, 1] interval (as you know, neural networks prefer to deal with small input values).\n",
        "\n",
        "It may seem a bit daunting, but fortunately Keras has utilities to take care of these steps automatically. Keras has a module with image-processing helper tools, located at keras.preprocessing.image. In particular, it contains the class ImageDataGenerator,which lets you quickly set up Python generators that can automatically turn image files on disk into batches of preprocessed tensors."
      ]
    },
    {
      "cell_type": "code",
      "metadata": {
        "id": "XJ7XU7t9sEh6",
        "colab": {
          "base_uri": "https://localhost:8080/"
        },
        "outputId": "bc2d9752-00a8-436d-bf3d-2eb91e724f36"
      },
      "source": [
        "from keras.preprocessing.image import ImageDataGenerator\n",
        "\n",
        "train_datagen = ImageDataGenerator(rescale=1./255)\n",
        "test_datagen = ImageDataGenerator(rescale=1./255)\n",
        "\n",
        "train_generator = train_datagen.flow_from_directory(train_dir,\n",
        "                                                    target_size=(150, 150), \n",
        "                                                    batch_size=20,\n",
        "                                                    class_mode='binary')\n",
        "\n",
        "validation_generator = test_datagen.flow_from_directory(validation_dir,\n",
        "                                                        target_size=(150, 150),\n",
        "                                                        batch_size=20,\n",
        "                                                        class_mode='binary')"
      ],
      "execution_count": 10,
      "outputs": [
        {
          "output_type": "stream",
          "text": [
            "Found 2000 images belonging to 2 classes.\n",
            "Found 1000 images belonging to 2 classes.\n"
          ],
          "name": "stdout"
        }
      ]
    },
    {
      "cell_type": "markdown",
      "metadata": {
        "id": "SEgLywySqm4u"
      },
      "source": [
        "Let’s fit the model to the data using the generator. You do so using the fit_generator method, the equivalent of fit for data generators like this one. It expects as its first argument a Python generator that will yield batches of inputs and targets indefinitely,like this one does. Because the data is being generated endlessly, the Keras model needs to know how many samples to draw from the generator before declaring anepoch over. This is the role of the `steps_per_epoch` argument: after having drawn `steps_per_epoch` batches from the generator—that is, after having run for `steps_per_epoch` gradient descent steps—the fitting process will go to the next epoch. In this case, batches are 20 samples, so it will take 100 batches until you see your target of 2,000 samples.\n",
        "\n",
        "When using fit_generator, you can pass a validation_data argument, much as with the fit method. It’s important to note that this argument is allowed to be a data generator, but it could also be a tuple of Numpy arrays. If you pass a generator as validation_data, then this generator is expected to yield batches of validation data endlessly; thus you should also specify the validation_steps argument, which tells the process how many batches to draw from the validation generator for evaluation."
      ]
    },
    {
      "cell_type": "code",
      "metadata": {
        "id": "yMyfPphJsJG6",
        "colab": {
          "base_uri": "https://localhost:8080/"
        },
        "outputId": "995766a9-83a1-4db0-dace-11d3e4fe7ee0"
      },
      "source": [
        "history = model.fit_generator(train_generator,\n",
        "                              steps_per_epoch=100,\n",
        "                              epochs=30,\n",
        "                              validation_data=validation_generator,\n",
        "                              validation_steps=10)"
      ],
      "execution_count": 11,
      "outputs": [
        {
          "output_type": "stream",
          "text": [
            "/usr/local/lib/python3.7/dist-packages/tensorflow/python/keras/engine/training.py:1844: UserWarning: `Model.fit_generator` is deprecated and will be removed in a future version. Please use `Model.fit`, which supports generators.\n",
            "  warnings.warn('`Model.fit_generator` is deprecated and '\n"
          ],
          "name": "stderr"
        },
        {
          "output_type": "stream",
          "text": [
            "Epoch 1/30\n",
            "100/100 [==============================] - 40s 69ms/step - loss: 0.6966 - acc: 0.4976 - val_loss: 0.6848 - val_acc: 0.5250\n",
            "Epoch 2/30\n",
            "100/100 [==============================] - 7s 66ms/step - loss: 0.6625 - acc: 0.6027 - val_loss: 0.6637 - val_acc: 0.5900\n",
            "Epoch 3/30\n",
            "100/100 [==============================] - 7s 66ms/step - loss: 0.6055 - acc: 0.6682 - val_loss: 0.6077 - val_acc: 0.6500\n",
            "Epoch 4/30\n",
            "100/100 [==============================] - 7s 67ms/step - loss: 0.5664 - acc: 0.7129 - val_loss: 0.5718 - val_acc: 0.7250\n",
            "Epoch 5/30\n",
            "100/100 [==============================] - 7s 66ms/step - loss: 0.5387 - acc: 0.7322 - val_loss: 0.5923 - val_acc: 0.7100\n",
            "Epoch 6/30\n",
            "100/100 [==============================] - 7s 66ms/step - loss: 0.5120 - acc: 0.7512 - val_loss: 0.5797 - val_acc: 0.6750\n",
            "Epoch 7/30\n",
            "100/100 [==============================] - 7s 67ms/step - loss: 0.4779 - acc: 0.7723 - val_loss: 0.5784 - val_acc: 0.7100\n",
            "Epoch 8/30\n",
            "100/100 [==============================] - 7s 67ms/step - loss: 0.4434 - acc: 0.7950 - val_loss: 0.6125 - val_acc: 0.7000\n",
            "Epoch 9/30\n",
            "100/100 [==============================] - 7s 67ms/step - loss: 0.4308 - acc: 0.8099 - val_loss: 0.5640 - val_acc: 0.6950\n",
            "Epoch 10/30\n",
            "100/100 [==============================] - 7s 66ms/step - loss: 0.4072 - acc: 0.8197 - val_loss: 0.5609 - val_acc: 0.7250\n",
            "Epoch 11/30\n",
            "100/100 [==============================] - 7s 66ms/step - loss: 0.3680 - acc: 0.8289 - val_loss: 0.6162 - val_acc: 0.7250\n",
            "Epoch 12/30\n",
            "100/100 [==============================] - 7s 67ms/step - loss: 0.3540 - acc: 0.8476 - val_loss: 0.6053 - val_acc: 0.7150\n",
            "Epoch 13/30\n",
            "100/100 [==============================] - 7s 68ms/step - loss: 0.3233 - acc: 0.8688 - val_loss: 0.5146 - val_acc: 0.7700\n",
            "Epoch 14/30\n",
            "100/100 [==============================] - 7s 67ms/step - loss: 0.2978 - acc: 0.8718 - val_loss: 0.6069 - val_acc: 0.7250\n",
            "Epoch 15/30\n",
            "100/100 [==============================] - 7s 67ms/step - loss: 0.2702 - acc: 0.8911 - val_loss: 0.6717 - val_acc: 0.7000\n",
            "Epoch 16/30\n",
            "100/100 [==============================] - 7s 66ms/step - loss: 0.2524 - acc: 0.8991 - val_loss: 0.6156 - val_acc: 0.7150\n",
            "Epoch 17/30\n",
            "100/100 [==============================] - 7s 67ms/step - loss: 0.2360 - acc: 0.9193 - val_loss: 0.6286 - val_acc: 0.7000\n",
            "Epoch 18/30\n",
            "100/100 [==============================] - 7s 66ms/step - loss: 0.2139 - acc: 0.9213 - val_loss: 0.6301 - val_acc: 0.6850\n",
            "Epoch 19/30\n",
            "100/100 [==============================] - 7s 66ms/step - loss: 0.1909 - acc: 0.9381 - val_loss: 0.6207 - val_acc: 0.7250\n",
            "Epoch 20/30\n",
            "100/100 [==============================] - 7s 67ms/step - loss: 0.1882 - acc: 0.9341 - val_loss: 0.7589 - val_acc: 0.6650\n",
            "Epoch 21/30\n",
            "100/100 [==============================] - 7s 67ms/step - loss: 0.1471 - acc: 0.9454 - val_loss: 0.8080 - val_acc: 0.7250\n",
            "Epoch 22/30\n",
            "100/100 [==============================] - 7s 66ms/step - loss: 0.1443 - acc: 0.9505 - val_loss: 0.6724 - val_acc: 0.7300\n",
            "Epoch 23/30\n",
            "100/100 [==============================] - 7s 66ms/step - loss: 0.1303 - acc: 0.9591 - val_loss: 0.9166 - val_acc: 0.7150\n",
            "Epoch 24/30\n",
            "100/100 [==============================] - 7s 66ms/step - loss: 0.1097 - acc: 0.9654 - val_loss: 0.8270 - val_acc: 0.6900\n",
            "Epoch 25/30\n",
            "100/100 [==============================] - 7s 67ms/step - loss: 0.1006 - acc: 0.9720 - val_loss: 0.8524 - val_acc: 0.6850\n",
            "Epoch 26/30\n",
            "100/100 [==============================] - 7s 67ms/step - loss: 0.0769 - acc: 0.9805 - val_loss: 0.9812 - val_acc: 0.7350\n",
            "Epoch 27/30\n",
            "100/100 [==============================] - 7s 66ms/step - loss: 0.0654 - acc: 0.9831 - val_loss: 0.9056 - val_acc: 0.7350\n",
            "Epoch 28/30\n",
            "100/100 [==============================] - 7s 66ms/step - loss: 0.0569 - acc: 0.9873 - val_loss: 0.9804 - val_acc: 0.6850\n",
            "Epoch 29/30\n",
            "100/100 [==============================] - 7s 67ms/step - loss: 0.0514 - acc: 0.9889 - val_loss: 0.7508 - val_acc: 0.7750\n",
            "Epoch 30/30\n",
            "100/100 [==============================] - 7s 66ms/step - loss: 0.0415 - acc: 0.9898 - val_loss: 1.1906 - val_acc: 0.7250\n"
          ],
          "name": "stdout"
        }
      ]
    },
    {
      "cell_type": "code",
      "metadata": {
        "id": "MZaZ2HWZsNUi",
        "colab": {
          "base_uri": "https://localhost:8080/",
          "height": 545
        },
        "outputId": "edefc649-b24e-47b1-9101-7b3e3dce9693"
      },
      "source": [
        "model.save('cats_and_dogs_small_1.h5')\n",
        "\n",
        "import matplotlib.pyplot as plt\n",
        "\n",
        "acc = history.history['acc']\n",
        "val_acc = history.history['val_acc']\n",
        "loss = history.history['loss']\n",
        "val_loss = history.history['val_loss']\n",
        "\n",
        "epochs = range(1, len(acc) + 1)\n",
        "\n",
        "plt.plot(epochs, acc, 'bo', label='Training acc')\n",
        "plt.plot(epochs, val_acc, 'b', label='Validation acc')\n",
        "plt.title('Training and validation accuracy')\n",
        "plt.legend()\n",
        "\n",
        "plt.figure()\n",
        "\n",
        "plt.plot(epochs, loss, 'bo', label='Training loss')\n",
        "plt.plot(epochs, val_loss, 'b', label='Validation loss')\n",
        "plt.title('Training and validation loss')\n",
        "plt.legend()\n",
        "\n",
        "plt.show()"
      ],
      "execution_count": 12,
      "outputs": [
        {
          "output_type": "display_data",
          "data": {
            "image/png": "[encoded data removed]",
            "text/plain": [
              "<Figure size 432x288 with 1 Axes>"
            ]
          },
          "metadata": {
            "tags": [],
            "needs_background": "light"
          }
        },
        {
          "output_type": "display_data",
          "data": {
            "image/png": "[encoded data removed]",
            "text/plain": [
              "<Figure size 432x288 with 1 Axes>"
            ]
          },
          "metadata": {
            "tags": [],
            "needs_background": "light"
          }
        }
      ]
    },
    {
      "cell_type": "markdown",
      "metadata": {
        "id": "XKZmXmBcq_8-"
      },
      "source": [
        "## Convolutional Networks with Dropout\n",
        "\n",
        "![alt text](https://camo.githubusercontent.com/ee6fa1073247cd2c3d241300caf110d7a7541bc5/68747470733a2f2f63646e2d696d616765732d312e6d656469756d2e636f6d2f6d61782f3830302f312a4972644a355067684439596f4f7956415137334d4a772e676966)\n",
        "\n",
        "Ref: https://github.com/mneha4/Training-Neural-Nets---Guidelines"
      ]
    },
    {
      "cell_type": "code",
      "metadata": {
        "id": "wu3cqeYQrDeN"
      },
      "source": [
        "cmodel = models.Sequential()\n",
        "cmodel.add(layers.Conv2D(32, (3, 3), activation='relu',\n",
        "input_shape=(150, 150, 3)))\n",
        "cmodel.add(layers.MaxPooling2D((2, 2)))\n",
        "cmodel.add(layers.Conv2D(64, (3, 3), activation='relu'))\n",
        "#Additional dropout layer added at a rate of 0.1\n",
        "cmodel.add(layers.Dropout(0.1))\n",
        "cmodel.add(layers.MaxPooling2D((2, 2)))\n",
        "cmodel.add(layers.Conv2D(128, (3, 3), activation='relu'))\n",
        "#Additional dropout layer added at a rate of 0.1\n",
        "cmodel.add(layers.Dropout(0.1))\n",
        "cmodel.add(layers.MaxPooling2D((2, 2)))\n",
        "cmodel.add(layers.Conv2D(128, (3, 3), activation='relu'))\n",
        "cmodel.add(layers.MaxPooling2D((2, 2)))\n",
        "cmodel.add(layers.Flatten())\n",
        "#Original dropout layer reduced to 0.3\n",
        "cmodel.add(layers.Dropout(0.3))\n",
        "cmodel.add(layers.Dense(512, activation='relu'))\n",
        "cmodel.add(layers.Dense(1, activation='sigmoid'))\n",
        "\n",
        "cmodel.compile(loss='binary_crossentropy',\n",
        "              optimizer=optimizers.RMSprop(lr=1e-4),\n",
        "              metrics=['acc'])"
      ],
      "execution_count": 58,
      "outputs": []
    },
    {
      "cell_type": "code",
      "metadata": {
        "id": "QSeLpvY0rH7F",
        "colab": {
          "base_uri": "https://localhost:8080/"
        },
        "outputId": "928ddeb8-24f9-4a42-815e-0a7e0ec310fe"
      },
      "source": [
        "\n",
        "train_datagen = ImageDataGenerator(rescale=1./255,\n",
        "                                   rotation_range=40,\n",
        "                                   width_shift_range=0.2,\n",
        "                                   height_shift_range=0.2,\n",
        "                                   shear_range=0.2,\n",
        "                                   zoom_range=0.2,\n",
        "                                   horizontal_flip=True,)\n",
        "\n",
        "test_datagen = ImageDataGenerator(rescale=1./255)\n",
        "\n",
        "train_generator = train_datagen.flow_from_directory(train_dir,\n",
        "                                                    target_size=(150, 150),\n",
        "                                                    batch_size=20,\n",
        "                                                    class_mode='binary')\n",
        "\n",
        "validation_generator = test_datagen.flow_from_directory(validation_dir,\n",
        "                                                        target_size=(150, 150),\n",
        "                                                        batch_size=20,\n",
        "                                                        class_mode='binary')\n",
        "\n",
        "history = cmodel.fit_generator(train_generator,\n",
        "                              steps_per_epoch=100,\n",
        "                              epochs=25,\n",
        "                              validation_data=validation_generator,\n",
        "                              validation_steps=50)"
      ],
      "execution_count": 59,
      "outputs": [
        {
          "output_type": "stream",
          "text": [
            "Found 2000 images belonging to 2 classes.\n",
            "Found 1000 images belonging to 2 classes.\n"
          ],
          "name": "stdout"
        },
        {
          "output_type": "stream",
          "text": [
            "/usr/local/lib/python3.7/dist-packages/tensorflow/python/keras/engine/training.py:1844: UserWarning: `Model.fit_generator` is deprecated and will be removed in a future version. Please use `Model.fit`, which supports generators.\n",
            "  warnings.warn('`Model.fit_generator` is deprecated and '\n"
          ],
          "name": "stderr"
        },
        {
          "output_type": "stream",
          "text": [
            "Epoch 1/25\n",
            "100/100 [==============================] - 18s 172ms/step - loss: 0.6968 - acc: 0.5224 - val_loss: 0.6827 - val_acc: 0.6090\n",
            "Epoch 2/25\n",
            "100/100 [==============================] - 17s 171ms/step - loss: 0.6828 - acc: 0.5551 - val_loss: 0.6622 - val_acc: 0.6010\n",
            "Epoch 3/25\n",
            "100/100 [==============================] - 17s 172ms/step - loss: 0.6582 - acc: 0.6144 - val_loss: 0.6406 - val_acc: 0.6270\n",
            "Epoch 4/25\n",
            "100/100 [==============================] - 17s 172ms/step - loss: 0.6383 - acc: 0.6274 - val_loss: 0.6725 - val_acc: 0.5700\n",
            "Epoch 5/25\n",
            "100/100 [==============================] - 17s 171ms/step - loss: 0.6545 - acc: 0.6216 - val_loss: 0.6084 - val_acc: 0.6670\n",
            "Epoch 6/25\n",
            "100/100 [==============================] - 17s 172ms/step - loss: 0.6305 - acc: 0.6382 - val_loss: 0.5911 - val_acc: 0.6800\n",
            "Epoch 7/25\n",
            "100/100 [==============================] - 17s 173ms/step - loss: 0.5896 - acc: 0.6792 - val_loss: 0.6115 - val_acc: 0.6460\n",
            "Epoch 8/25\n",
            "100/100 [==============================] - 17s 173ms/step - loss: 0.6012 - acc: 0.6580 - val_loss: 0.5917 - val_acc: 0.6610\n",
            "Epoch 9/25\n",
            "100/100 [==============================] - 17s 172ms/step - loss: 0.5898 - acc: 0.6824 - val_loss: 0.5546 - val_acc: 0.7160\n",
            "Epoch 10/25\n",
            "100/100 [==============================] - 17s 172ms/step - loss: 0.5719 - acc: 0.7251 - val_loss: 0.5516 - val_acc: 0.7140\n",
            "Epoch 11/25\n",
            "100/100 [==============================] - 17s 173ms/step - loss: 0.5623 - acc: 0.7003 - val_loss: 0.5549 - val_acc: 0.7120\n",
            "Epoch 12/25\n",
            "100/100 [==============================] - 17s 174ms/step - loss: 0.5716 - acc: 0.7014 - val_loss: 0.5420 - val_acc: 0.7220\n",
            "Epoch 13/25\n",
            "100/100 [==============================] - 17s 172ms/step - loss: 0.5531 - acc: 0.7232 - val_loss: 0.5595 - val_acc: 0.6810\n",
            "Epoch 14/25\n",
            "100/100 [==============================] - 17s 173ms/step - loss: 0.5764 - acc: 0.7049 - val_loss: 0.5124 - val_acc: 0.7350\n",
            "Epoch 15/25\n",
            "100/100 [==============================] - 17s 173ms/step - loss: 0.5441 - acc: 0.7279 - val_loss: 0.5382 - val_acc: 0.7250\n",
            "Epoch 16/25\n",
            "100/100 [==============================] - 17s 173ms/step - loss: 0.5627 - acc: 0.7247 - val_loss: 0.5134 - val_acc: 0.7510\n",
            "Epoch 17/25\n",
            "100/100 [==============================] - 17s 172ms/step - loss: 0.5204 - acc: 0.7362 - val_loss: 0.5167 - val_acc: 0.7450\n",
            "Epoch 18/25\n",
            "100/100 [==============================] - 17s 171ms/step - loss: 0.5228 - acc: 0.7352 - val_loss: 0.5179 - val_acc: 0.7440\n",
            "Epoch 19/25\n",
            "100/100 [==============================] - 17s 171ms/step - loss: 0.5389 - acc: 0.7048 - val_loss: 0.4891 - val_acc: 0.7590\n",
            "Epoch 20/25\n",
            "100/100 [==============================] - 17s 172ms/step - loss: 0.5224 - acc: 0.7352 - val_loss: 0.5605 - val_acc: 0.6880\n",
            "Epoch 21/25\n",
            "100/100 [==============================] - 17s 173ms/step - loss: 0.5243 - acc: 0.7397 - val_loss: 0.5033 - val_acc: 0.7400\n",
            "Epoch 22/25\n",
            "100/100 [==============================] - 17s 172ms/step - loss: 0.5144 - acc: 0.7539 - val_loss: 0.5531 - val_acc: 0.7120\n",
            "Epoch 23/25\n",
            "100/100 [==============================] - 17s 171ms/step - loss: 0.5095 - acc: 0.7356 - val_loss: 0.4910 - val_acc: 0.7620\n",
            "Epoch 24/25\n",
            "100/100 [==============================] - 17s 172ms/step - loss: 0.5224 - acc: 0.7386 - val_loss: 0.5057 - val_acc: 0.7390\n",
            "Epoch 25/25\n",
            "100/100 [==============================] - 17s 172ms/step - loss: 0.5093 - acc: 0.7487 - val_loss: 0.4870 - val_acc: 0.7540\n"
          ],
          "name": "stdout"
        }
      ]
    },
    {
      "cell_type": "markdown",
      "metadata": {
        "id": "BRdU5yrkUF_b"
      },
      "source": [
        "# Task 2:\n",
        "\n",
        "We have used Dropout to enhance the performance of the CNN model. Can you please use whatever you like to further enhance the performance from `val_acc: 0.7506`? "
      ]
    }
  ]
}