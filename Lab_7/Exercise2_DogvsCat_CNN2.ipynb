{
  "nbformat": 4,
  "nbformat_minor": 0,
  "metadata": {
    "colab": {
      "name": "Copy of Exercise2_DogvsCat_CNN2.ipynb",
      "provenance": [],
      "include_colab_link": true
    },
    "kernelspec": {
      "name": "python3",
      "display_name": "Python 3"
    },
    "accelerator": "GPU"
  },
  "cells": [
    {
      "cell_type": "markdown",
      "metadata": {
        "id": "view-in-github",
        "colab_type": "text"
      },
      "source": [
        "<a href=\"https://colab.research.google.com/github/rpolea/CE888/blob/main/Lab_7/Exercise2_DogvsCat_CNN2.ipynb\" target=\"_parent\"><img src=\"https://colab.research.google.com/assets/colab-badge.svg\" alt=\"Open In Colab\"/></a>"
      ]
    },
    {
      "cell_type": "markdown",
      "metadata": {
        "id": "qTh9DiKVslsJ"
      },
      "source": [
        "## Dogs vs. Cats \n",
        "\n",
        "In this competition, you'll write an algorithm to classify whether images contain either a dog or a cat.  This is easy for humans, dogs, and cats. Your computer will find it a bit more difficult.\n",
        "\n",
        "![alt text](https://miro.medium.com/max/3000/1*bhFifratH9DjKqMBTeQG5A.gif)\n",
        "\n",
        "Ref: https://medium.com/@thegrigorian/rolling-in-the-deep-cnn-c8d3f7108c8c"
      ]
    },
    {
      "cell_type": "markdown",
      "metadata": {
        "id": "RSBI-_mSSY1g"
      },
      "source": [
        "Get your API Key from Kaggle using following steps:\n",
        "1. Login to [Kaggle](https://www.kaggle.com/) or Register if you don't have account\n",
        "2. Open Dataset (https://www.kaggle.com/c/dogs-vs-cats/rules) and accept terms and condition. \n",
        "3. On the top right corner click on your Icon and go to accounts and press a button \"Create New API Token\". It will download a JSON file containing your username and key. \n",
        "4. Now, paste both below. \n"
      ]
    },
    {
      "cell_type": "code",
      "metadata": {
        "id": "YmXSOc0tZIGA",
        "colab": {
          "base_uri": "https://localhost:8080/"
        },
        "outputId": "a2616b07-04ac-4ee0-fc1e-544bdce4bc23"
      },
      "source": [
        "import os\n",
        "os.environ['KAGGLE_USERNAME'] = \"ryanomissenden\" # username from the json file\n",
        "os.environ['KAGGLE_KEY'] = \"98c4cfb0843d6de05a2852a6cbff5e7f\" # key from the json file\n",
        "!kaggle competitions download -c dogs-vs-cats # api copied from kaggle (https://www.kaggle.com/c/dogs-vs-cats/data)"
      ],
      "execution_count": 2,
      "outputs": [
        {
          "output_type": "stream",
          "text": [
            "Warning: Looks like you're using an outdated API Version, please consider updating (server 1.5.12 / client 1.5.4)\n",
            "Downloading train.zip to /content\n",
            "100% 541M/543M [00:05<00:00, 79.5MB/s]\n",
            "100% 543M/543M [00:05<00:00, 111MB/s] \n",
            "Downloading sampleSubmission.csv to /content\n",
            "  0% 0.00/86.8k [00:00<?, ?B/s]\n",
            "100% 86.8k/86.8k [00:00<00:00, 90.4MB/s]\n",
            "Downloading test1.zip to /content\n",
            " 93% 253M/271M [00:01<00:00, 250MB/s]\n",
            "100% 271M/271M [00:01<00:00, 254MB/s]\n"
          ],
          "name": "stdout"
        }
      ]
    },
    {
      "cell_type": "code",
      "metadata": {
        "id": "PiwIL8d1n7eS",
        "colab": {
          "base_uri": "https://localhost:8080/"
        },
        "outputId": "0bf49e68-b332-4d0d-9568-8eda1c6841f0"
      },
      "source": [
        "# Unzip training data\n",
        "from zipfile import ZipFile\n",
        "file_name = \"/content/train.zip\"\n",
        "with ZipFile(file_name, 'r') as zip:\n",
        "  zip.extractall()\n",
        "  print('done')"
      ],
      "execution_count": 3,
      "outputs": [
        {
          "output_type": "stream",
          "text": [
            "done\n"
          ],
          "name": "stdout"
        }
      ]
    },
    {
      "cell_type": "code",
      "metadata": {
        "id": "sa2Bj5i7pPKV",
        "colab": {
          "base_uri": "https://localhost:8080/"
        },
        "outputId": "85266e99-cd89-41e4-e04f-d7999ee0ccce"
      },
      "source": [
        "# Get all the paths\n",
        "data_dir_list = os.listdir('/content/train')\n",
        "#print(data_dir_list)\n",
        "path, dirs, files = next(os.walk(\"/content/train\"))\n",
        "file_count = len(files)\n",
        "print(file_count)"
      ],
      "execution_count": 4,
      "outputs": [
        {
          "output_type": "stream",
          "text": [
            "25000\n"
          ],
          "name": "stdout"
        }
      ]
    },
    {
      "cell_type": "code",
      "metadata": {
        "id": "0ERlHkfHqpK8"
      },
      "source": [
        "# Make new base directory\n",
        "original_dataset_dir = '/content/train'\n",
        "base_dir = '/content/cats_and_dogs_small'\n",
        "os.mkdir(base_dir)"
      ],
      "execution_count": 5,
      "outputs": []
    },
    {
      "cell_type": "code",
      "metadata": {
        "id": "AANB1UJ6rQhM"
      },
      "source": [
        "train_dir = os.path.join(base_dir, 'train')\n",
        "os.mkdir(train_dir)\n",
        "\n",
        "validation_dir = os.path.join(base_dir, 'validation')\n",
        "os.mkdir(validation_dir)\n",
        "\n",
        "test_dir = os.path.join(base_dir, 'test')\n",
        "os.mkdir(test_dir)\n",
        "\n",
        "train_cats_dir = os.path.join(train_dir, 'cats')\n",
        "os.mkdir(train_cats_dir)\n",
        "\n",
        "train_dogs_dir = os.path.join(train_dir, 'dogs')\n",
        "os.mkdir(train_dogs_dir)\n",
        "\n",
        "validation_cats_dir = os.path.join(validation_dir, 'cats')\n",
        "os.mkdir(validation_cats_dir)\n",
        "\n",
        "validation_dogs_dir = os.path.join(validation_dir, 'dogs')\n",
        "os.mkdir(validation_dogs_dir)\n",
        "\n",
        "test_cats_dir = os.path.join(test_dir, 'cats')\n",
        "os.mkdir(test_cats_dir)\n",
        "\n",
        "test_dogs_dir = os.path.join(test_dir, 'dogs')\n",
        "os.mkdir(test_dogs_dir)"
      ],
      "execution_count": 6,
      "outputs": []
    },
    {
      "cell_type": "code",
      "metadata": {
        "id": "ULRgL9s9rV8T"
      },
      "source": [
        "import shutil\n",
        "fnames = ['cat.{}.jpg'.format(i) for i in range(1000)]\n",
        "for fname in fnames:\n",
        "    src = os.path.join(original_dataset_dir, fname)\n",
        "    dst = os.path.join(train_cats_dir, fname)\n",
        "    #print(src,dst)\n",
        "    shutil.copyfile(src, dst)\n",
        "    \n",
        "fnames = ['cat.{}.jpg'.format(i) for i in range(1000, 1500)]\n",
        "for fname in fnames:\n",
        "    src = os.path.join(original_dataset_dir, fname)\n",
        "    dst = os.path.join(validation_cats_dir, fname)\n",
        "    shutil.copyfile(src, dst)\n",
        "\n",
        "fnames = ['cat.{}.jpg'.format(i) for i in range(1500, 2000)]\n",
        "for fname in fnames:\n",
        "    src = os.path.join(original_dataset_dir, fname)\n",
        "    dst = os.path.join(test_cats_dir, fname)\n",
        "    shutil.copyfile(src, dst)\n",
        "    \n",
        "fnames = ['dog.{}.jpg'.format(i) for i in range(1000)]\n",
        "for fname in fnames:\n",
        "    src = os.path.join(original_dataset_dir, fname)\n",
        "    dst = os.path.join(train_dogs_dir, fname)\n",
        "    shutil.copyfile(src, dst)\n",
        "\n",
        "fnames = ['dog.{}.jpg'.format(i) for i in range(1000, 1500)]\n",
        "for fname in fnames:\n",
        "    src = os.path.join(original_dataset_dir, fname)\n",
        "    dst = os.path.join(validation_dogs_dir, fname)\n",
        "    shutil.copyfile(src, dst)\n",
        "\n",
        "fnames = ['dog.{}.jpg'.format(i) for i in range(1500, 2000)]\n",
        "for fname in fnames:\n",
        "    src = os.path.join(original_dataset_dir, fname)\n",
        "    dst = os.path.join(test_dogs_dir, fname)\n",
        "    shutil.copyfile(src, dst)"
      ],
      "execution_count": 7,
      "outputs": []
    },
    {
      "cell_type": "code",
      "metadata": {
        "id": "ul3XAbIyr7vC",
        "colab": {
          "base_uri": "https://localhost:8080/"
        },
        "outputId": "f4960f32-507e-4b00-87d8-917657a62150"
      },
      "source": [
        "print('total training cat images:', len(os.listdir(train_cats_dir)))\n",
        "print('total training dog images:', len(os.listdir(train_dogs_dir)))\n",
        "print('total validation cat images:', len(os.listdir(validation_cats_dir)))\n",
        "\n",
        "print('total validation dog images:', len(os.listdir(validation_dogs_dir)))\n",
        "print('total test cat images:', len(os.listdir(test_cats_dir)))\n",
        "print('total test dog images:', len(os.listdir(test_dogs_dir)))"
      ],
      "execution_count": 8,
      "outputs": [
        {
          "output_type": "stream",
          "text": [
            "total training cat images: 1000\n",
            "total training dog images: 1000\n",
            "total validation cat images: 500\n",
            "total validation dog images: 500\n",
            "total test cat images: 500\n",
            "total test dog images: 500\n"
          ],
          "name": "stdout"
        }
      ]
    },
    {
      "cell_type": "code",
      "metadata": {
        "id": "o9yTA21_r-ma",
        "colab": {
          "base_uri": "https://localhost:8080/"
        },
        "outputId": "2954a415-44d8-418b-ab5f-00b05be5c7c9"
      },
      "source": [
        "from keras import layers\n",
        "from keras import models\n",
        "\n",
        "model = models.Sequential()\n",
        "model.add(layers.Conv2D(32, (3, 3), activation='relu', input_shape=(150, 150, 3)))\n",
        "model.add(layers.MaxPooling2D((2, 2)))\n",
        "model.add(layers.Conv2D(64, (3, 3), activation='relu'))\n",
        "model.add(layers.MaxPooling2D((2, 2)))\n",
        "model.add(layers.Conv2D(128, (3, 3), activation='relu'))\n",
        "model.add(layers.MaxPooling2D((2, 2)))\n",
        "model.add(layers.Conv2D(128, (3, 3), activation='relu'))\n",
        "model.add(layers.MaxPooling2D((2, 2)))\n",
        "model.add(layers.Flatten())\n",
        "model.add(layers.Dense(512, activation='relu'))\n",
        "model.add(layers.Dense(1, activation='sigmoid'))\n",
        "model.summary()"
      ],
      "execution_count": 9,
      "outputs": [
        {
          "output_type": "stream",
          "text": [
            "Model: \"sequential\"\n",
            "_________________________________________________________________\n",
            "Layer (type)                 Output Shape              Param #   \n",
            "=================================================================\n",
            "conv2d (Conv2D)              (None, 148, 148, 32)      896       \n",
            "_________________________________________________________________\n",
            "max_pooling2d (MaxPooling2D) (None, 74, 74, 32)        0         \n",
            "_________________________________________________________________\n",
            "conv2d_1 (Conv2D)            (None, 72, 72, 64)        18496     \n",
            "_________________________________________________________________\n",
            "max_pooling2d_1 (MaxPooling2 (None, 36, 36, 64)        0         \n",
            "_________________________________________________________________\n",
            "conv2d_2 (Conv2D)            (None, 34, 34, 128)       73856     \n",
            "_________________________________________________________________\n",
            "max_pooling2d_2 (MaxPooling2 (None, 17, 17, 128)       0         \n",
            "_________________________________________________________________\n",
            "conv2d_3 (Conv2D)            (None, 15, 15, 128)       147584    \n",
            "_________________________________________________________________\n",
            "max_pooling2d_3 (MaxPooling2 (None, 7, 7, 128)         0         \n",
            "_________________________________________________________________\n",
            "flatten (Flatten)            (None, 6272)              0         \n",
            "_________________________________________________________________\n",
            "dense (Dense)                (None, 512)               3211776   \n",
            "_________________________________________________________________\n",
            "dense_1 (Dense)              (None, 1)                 513       \n",
            "=================================================================\n",
            "Total params: 3,453,121\n",
            "Trainable params: 3,453,121\n",
            "Non-trainable params: 0\n",
            "_________________________________________________________________\n"
          ],
          "name": "stdout"
        }
      ]
    },
    {
      "cell_type": "code",
      "metadata": {
        "id": "2mG8wekxsBVS"
      },
      "source": [
        "from keras import optimizers\n",
        "model.compile(loss='binary_crossentropy', \n",
        "              optimizer=optimizers.RMSprop(lr=1e-4),\n",
        "              metrics=['acc'])"
      ],
      "execution_count": 10,
      "outputs": []
    },
    {
      "cell_type": "markdown",
      "metadata": {
        "id": "7zS4Klm8qWp6"
      },
      "source": [
        "## Using ImageDataGenerator to read images from directories\n",
        "As you know by now, data should be formatted into appropriately preprocessed floatingpoint tensors before being fed into the network. Currently, the data sits on a drive as JPEG files, so the steps for getting it into the network are roughly as follows:\n",
        "\n",
        "* Read the picture files.\n",
        "* Decode the JPEG content to RGB grids of pixels.\n",
        "* Convert these into floating-point tensors.\n",
        "* Rescale the pixel values (between 0 and 255) to the [0, 1] interval (as you know, neural networks prefer to deal with small input values).\n",
        "\n",
        "It may seem a bit daunting, but fortunately Keras has utilities to take care of these steps automatically. Keras has a module with image-processing helper tools, located at keras.preprocessing.image. In particular, it contains the class ImageDataGenerator,which lets you quickly set up Python generators that can automatically turn image files on disk into batches of preprocessed tensors."
      ]
    },
    {
      "cell_type": "code",
      "metadata": {
        "id": "XJ7XU7t9sEh6",
        "colab": {
          "base_uri": "https://localhost:8080/"
        },
        "outputId": "5c6c9ec7-f02b-4ab8-d797-29fa64d369fb"
      },
      "source": [
        "from keras.preprocessing.image import ImageDataGenerator\n",
        "\n",
        "train_datagen = ImageDataGenerator(rescale=1./255)\n",
        "test_datagen = ImageDataGenerator(rescale=1./255)\n",
        "\n",
        "train_generator = train_datagen.flow_from_directory(train_dir,\n",
        "                                                    target_size=(150, 150), \n",
        "                                                    batch_size=20,\n",
        "                                                    class_mode='binary')\n",
        "\n",
        "validation_generator = test_datagen.flow_from_directory(validation_dir,\n",
        "                                                        target_size=(150, 150),\n",
        "                                                        batch_size=20,\n",
        "                                                        class_mode='binary')"
      ],
      "execution_count": 11,
      "outputs": [
        {
          "output_type": "stream",
          "text": [
            "Found 2000 images belonging to 2 classes.\n",
            "Found 1000 images belonging to 2 classes.\n"
          ],
          "name": "stdout"
        }
      ]
    },
    {
      "cell_type": "markdown",
      "metadata": {
        "id": "SEgLywySqm4u"
      },
      "source": [
        "Let’s fit the model to the data using the generator. You do so using the fit_generator method, the equivalent of fit for data generators like this one. It expects as its first argument a Python generator that will yield batches of inputs and targets indefinitely,like this one does. Because the data is being generated endlessly, the Keras model needs to know how many samples to draw from the generator before declaring anepoch over. This is the role of the `steps_per_epoch` argument: after having drawn `steps_per_epoch` batches from the generator—that is, after having run for `steps_per_epoch` gradient descent steps—the fitting process will go to the next epoch. In this case, batches are 20 samples, so it will take 100 batches until you see your target of 2,000 samples.\n",
        "\n",
        "When using fit_generator, you can pass a validation_data argument, much as with the fit method. It’s important to note that this argument is allowed to be a data generator, but it could also be a tuple of Numpy arrays. If you pass a generator as validation_data, then this generator is expected to yield batches of validation data endlessly; thus you should also specify the validation_steps argument, which tells the process how many batches to draw from the validation generator for evaluation."
      ]
    },
    {
      "cell_type": "code",
      "metadata": {
        "id": "yMyfPphJsJG6",
        "colab": {
          "base_uri": "https://localhost:8080/"
        },
        "outputId": "41c81390-96a9-47bc-e286-32d8bb96fe68"
      },
      "source": [
        "history = model.fit_generator(train_generator,\n",
        "                              steps_per_epoch=100,\n",
        "                              epochs=30,\n",
        "                              validation_data=validation_generator,\n",
        "                              validation_steps=10)"
      ],
      "execution_count": 12,
      "outputs": [
        {
          "output_type": "stream",
          "text": [
            "/usr/local/lib/python3.7/dist-packages/tensorflow/python/keras/engine/training.py:1844: UserWarning: `Model.fit_generator` is deprecated and will be removed in a future version. Please use `Model.fit`, which supports generators.\n",
            "  warnings.warn('`Model.fit_generator` is deprecated and '\n"
          ],
          "name": "stderr"
        },
        {
          "output_type": "stream",
          "text": [
            "Epoch 1/30\n",
            "100/100 [==============================] - 40s 68ms/step - loss: 0.6955 - acc: 0.4972 - val_loss: 0.6709 - val_acc: 0.6050\n",
            "Epoch 2/30\n",
            "100/100 [==============================] - 7s 68ms/step - loss: 0.6604 - acc: 0.6190 - val_loss: 0.6493 - val_acc: 0.6150\n",
            "Epoch 3/30\n",
            "100/100 [==============================] - 7s 68ms/step - loss: 0.6195 - acc: 0.6623 - val_loss: 0.6727 - val_acc: 0.6000\n",
            "Epoch 4/30\n",
            "100/100 [==============================] - 7s 67ms/step - loss: 0.5717 - acc: 0.7155 - val_loss: 0.6712 - val_acc: 0.6000\n",
            "Epoch 5/30\n",
            "100/100 [==============================] - 7s 68ms/step - loss: 0.5522 - acc: 0.7162 - val_loss: 0.5666 - val_acc: 0.6900\n",
            "Epoch 6/30\n",
            "100/100 [==============================] - 7s 68ms/step - loss: 0.5042 - acc: 0.7577 - val_loss: 0.6131 - val_acc: 0.6700\n",
            "Epoch 7/30\n",
            "100/100 [==============================] - 7s 68ms/step - loss: 0.4801 - acc: 0.7564 - val_loss: 0.6446 - val_acc: 0.6350\n",
            "Epoch 8/30\n",
            "100/100 [==============================] - 7s 68ms/step - loss: 0.4445 - acc: 0.7833 - val_loss: 0.5951 - val_acc: 0.6750\n",
            "Epoch 9/30\n",
            "100/100 [==============================] - 7s 68ms/step - loss: 0.4073 - acc: 0.8062 - val_loss: 0.6843 - val_acc: 0.6700\n",
            "Epoch 10/30\n",
            "100/100 [==============================] - 7s 68ms/step - loss: 0.4029 - acc: 0.8261 - val_loss: 0.6182 - val_acc: 0.6650\n",
            "Epoch 11/30\n",
            "100/100 [==============================] - 7s 69ms/step - loss: 0.3863 - acc: 0.8348 - val_loss: 0.5304 - val_acc: 0.7450\n",
            "Epoch 12/30\n",
            "100/100 [==============================] - 7s 69ms/step - loss: 0.3488 - acc: 0.8408 - val_loss: 0.6383 - val_acc: 0.6750\n",
            "Epoch 13/30\n",
            "100/100 [==============================] - 7s 67ms/step - loss: 0.3250 - acc: 0.8719 - val_loss: 0.5827 - val_acc: 0.7350\n",
            "Epoch 14/30\n",
            "100/100 [==============================] - 7s 67ms/step - loss: 0.3102 - acc: 0.8826 - val_loss: 0.6444 - val_acc: 0.7000\n",
            "Epoch 15/30\n",
            "100/100 [==============================] - 7s 69ms/step - loss: 0.2646 - acc: 0.8931 - val_loss: 0.6137 - val_acc: 0.7450\n",
            "Epoch 16/30\n",
            "100/100 [==============================] - 7s 67ms/step - loss: 0.2536 - acc: 0.9028 - val_loss: 0.4437 - val_acc: 0.7900\n",
            "Epoch 17/30\n",
            "100/100 [==============================] - 7s 69ms/step - loss: 0.2541 - acc: 0.9018 - val_loss: 0.6415 - val_acc: 0.7050\n",
            "Epoch 18/30\n",
            "100/100 [==============================] - 7s 69ms/step - loss: 0.2197 - acc: 0.9227 - val_loss: 0.6020 - val_acc: 0.7200\n",
            "Epoch 19/30\n",
            "100/100 [==============================] - 7s 67ms/step - loss: 0.1993 - acc: 0.9208 - val_loss: 0.6083 - val_acc: 0.7400\n",
            "Epoch 20/30\n",
            "100/100 [==============================] - 7s 68ms/step - loss: 0.1927 - acc: 0.9253 - val_loss: 0.5030 - val_acc: 0.7900\n",
            "Epoch 21/30\n",
            "100/100 [==============================] - 7s 68ms/step - loss: 0.1702 - acc: 0.9457 - val_loss: 0.6081 - val_acc: 0.7800\n",
            "Epoch 22/30\n",
            "100/100 [==============================] - 7s 68ms/step - loss: 0.1438 - acc: 0.9546 - val_loss: 0.7035 - val_acc: 0.7400\n",
            "Epoch 23/30\n",
            "100/100 [==============================] - 7s 68ms/step - loss: 0.1156 - acc: 0.9671 - val_loss: 0.7506 - val_acc: 0.7200\n",
            "Epoch 24/30\n",
            "100/100 [==============================] - 7s 68ms/step - loss: 0.1049 - acc: 0.9719 - val_loss: 0.8557 - val_acc: 0.7050\n",
            "Epoch 25/30\n",
            "100/100 [==============================] - 7s 70ms/step - loss: 0.1075 - acc: 0.9661 - val_loss: 0.8133 - val_acc: 0.7650\n",
            "Epoch 26/30\n",
            "100/100 [==============================] - 7s 69ms/step - loss: 0.0803 - acc: 0.9737 - val_loss: 0.9967 - val_acc: 0.6950\n",
            "Epoch 27/30\n",
            "100/100 [==============================] - 7s 68ms/step - loss: 0.0691 - acc: 0.9862 - val_loss: 0.8252 - val_acc: 0.7500\n",
            "Epoch 28/30\n",
            "100/100 [==============================] - 7s 67ms/step - loss: 0.0622 - acc: 0.9808 - val_loss: 0.9174 - val_acc: 0.7200\n",
            "Epoch 29/30\n",
            "100/100 [==============================] - 7s 68ms/step - loss: 0.0458 - acc: 0.9936 - val_loss: 0.9657 - val_acc: 0.7700\n",
            "Epoch 30/30\n",
            "100/100 [==============================] - 7s 68ms/step - loss: 0.0421 - acc: 0.9919 - val_loss: 0.8344 - val_acc: 0.7600\n"
          ],
          "name": "stdout"
        }
      ]
    },
    {
      "cell_type": "code",
      "metadata": {
        "id": "MZaZ2HWZsNUi",
        "colab": {
          "base_uri": "https://localhost:8080/",
          "height": 545
        },
        "outputId": "d9e68fea-ec7c-4a58-dc17-faa7bbbd088d"
      },
      "source": [
        "model.save('cats_and_dogs_small_1.h5')\n",
        "\n",
        "import matplotlib.pyplot as plt\n",
        "\n",
        "acc = history.history['acc']\n",
        "val_acc = history.history['val_acc']\n",
        "loss = history.history['loss']\n",
        "val_loss = history.history['val_loss']\n",
        "\n",
        "epochs = range(1, len(acc) + 1)\n",
        "\n",
        "plt.plot(epochs, acc, 'bo', label='Training acc')\n",
        "plt.plot(epochs, val_acc, 'b', label='Validation acc')\n",
        "plt.title('Training and validation accuracy')\n",
        "plt.legend()\n",
        "\n",
        "plt.figure()\n",
        "\n",
        "plt.plot(epochs, loss, 'bo', label='Training loss')\n",
        "plt.plot(epochs, val_loss, 'b', label='Validation loss')\n",
        "plt.title('Training and validation loss')\n",
        "plt.legend()\n",
        "\n",
        "plt.show()"
      ],
      "execution_count": 13,
      "outputs": [
        {
          "output_type": "display_data",
          "data": {
            "image/png": "[encoded data removed]",
            "text/plain": [
              "<Figure size 432x288 with 1 Axes>"
            ]
          },
          "metadata": {
            "tags": [],
            "needs_background": "light"
          }
        },
        {
          "output_type": "display_data",
          "data": {
            "image/png": "[encoded data removed]",
            "text/plain": [
              "<Figure size 432x288 with 1 Axes>"
            ]
          },
          "metadata": {
            "tags": [],
            "needs_background": "light"
          }
        }
      ]
    },
    {
      "cell_type": "markdown",
      "metadata": {
        "id": "XKZmXmBcq_8-"
      },
      "source": [
        "## Convolutional Networks with Dropout\n",
        "\n",
        "![alt text](https://camo.githubusercontent.com/ee6fa1073247cd2c3d241300caf110d7a7541bc5/68747470733a2f2f63646e2d696d616765732d312e6d656469756d2e636f6d2f6d61782f3830302f312a4972644a355067684439596f4f7956415137334d4a772e676966)\n",
        "\n",
        "Ref: https://github.com/mneha4/Training-Neural-Nets---Guidelines"
      ]
    },
    {
      "cell_type": "code",
      "metadata": {
        "id": "wu3cqeYQrDeN"
      },
      "source": [
        "from keras.layers import BatchNormalization\n",
        "new_model = models.Sequential()\n",
        "new_model.add(layers.Conv2D(32, (3, 3), activation='relu',\n",
        "input_shape=(150, 150, 3)))\n",
        "new_model.add(BatchNormalization())\n",
        "new_model.add(layers.MaxPooling2D((2, 2)))\n",
        "new_model.add(layers.Dropout(0.25))\n",
        "\n",
        "new_model.add(layers.Conv2D(64, (3, 3), activation='relu'))\n",
        "new_model.add(BatchNormalization())\n",
        "new_model.add(layers.MaxPooling2D((2, 2)))\n",
        "new_model.add(layers.Dropout(0.25))\n",
        "\n",
        "new_model.add(layers.Conv2D(128, (3, 3), activation='relu'))\n",
        "new_model.add(BatchNormalization())\n",
        "new_model.add(layers.MaxPooling2D((2, 2)))\n",
        "new_model.add(layers.Dropout(0.25))\n",
        "\n",
        "new_model.add(layers.Conv2D(128, (3, 3), activation='relu'))\n",
        "new_model.add(BatchNormalization())\n",
        "new_model.add(layers.MaxPooling2D((2, 2)))\n",
        "new_model.add(layers.Dropout(0.25))\n",
        "\n",
        "new_model.add(layers.Flatten())\n",
        "new_model.add(layers.Dense(512, activation='relu'))\n",
        "new_model.add(BatchNormalization())\n",
        "new_model.add(layers.Dropout(0.5))\n",
        "new_model.add(layers.Dense(1, activation='sigmoid'))\n",
        "\n",
        "new_model.compile(loss='binary_crossentropy',\n",
        "              optimizer='rmsprop',\n",
        "              metrics=['acc'])"
      ],
      "execution_count": 20,
      "outputs": []
    },
    {
      "cell_type": "code",
      "metadata": {
        "id": "QSeLpvY0rH7F",
        "colab": {
          "base_uri": "https://localhost:8080/"
        },
        "outputId": "2db45397-6d11-4281-f400-64437bb4a57c"
      },
      "source": [
        "\n",
        "train_datagen = ImageDataGenerator(rescale=1./255,\n",
        "                                   rotation_range=40,\n",
        "                                   width_shift_range=0.2,\n",
        "                                   height_shift_range=0.2,\n",
        "                                   shear_range=0.2,\n",
        "                                   zoom_range=0.2,\n",
        "                                   horizontal_flip=True,)\n",
        "\n",
        "test_datagen = ImageDataGenerator(rescale=1./255)\n",
        "\n",
        "train_generator = train_datagen.flow_from_directory(train_dir,\n",
        "                                                    target_size=(150, 150),\n",
        "                                                    batch_size=20,\n",
        "                                                    class_mode='binary')\n",
        "\n",
        "validation_generator = test_datagen.flow_from_directory(validation_dir,\n",
        "                                                        target_size=(150, 150),\n",
        "                                                        batch_size=20,\n",
        "                                                        class_mode='binary')\n",
        "\n",
        "history = new_model.fit_generator(train_generator,\n",
        "                              steps_per_epoch=100,\n",
        "                              epochs=25,\n",
        "                              validation_data=validation_generator,\n",
        "                              validation_steps=50,\n",
        "                              shuffle = True)"
      ],
      "execution_count": 21,
      "outputs": [
        {
          "output_type": "stream",
          "text": [
            "Found 2000 images belonging to 2 classes.\n",
            "Found 1000 images belonging to 2 classes.\n"
          ],
          "name": "stdout"
        },
        {
          "output_type": "stream",
          "text": [
            "/usr/local/lib/python3.7/dist-packages/tensorflow/python/keras/engine/training.py:1844: UserWarning: `Model.fit_generator` is deprecated and will be removed in a future version. Please use `Model.fit`, which supports generators.\n",
            "  warnings.warn('`Model.fit_generator` is deprecated and '\n"
          ],
          "name": "stderr"
        },
        {
          "output_type": "stream",
          "text": [
            "Epoch 1/25\n",
            "100/100 [==============================] - 19s 180ms/step - loss: 1.2738 - acc: 0.5467 - val_loss: 2.5626 - val_acc: 0.5000\n",
            "Epoch 2/25\n",
            "100/100 [==============================] - 18s 180ms/step - loss: 0.9288 - acc: 0.5778 - val_loss: 1.6462 - val_acc: 0.5180\n",
            "Epoch 3/25\n",
            "100/100 [==============================] - 18s 178ms/step - loss: 0.7963 - acc: 0.5733 - val_loss: 0.9068 - val_acc: 0.5170\n",
            "Epoch 4/25\n",
            "100/100 [==============================] - 18s 177ms/step - loss: 0.7554 - acc: 0.5894 - val_loss: 0.6988 - val_acc: 0.5800\n",
            "Epoch 5/25\n",
            "100/100 [==============================] - 18s 176ms/step - loss: 0.7059 - acc: 0.6156 - val_loss: 0.7610 - val_acc: 0.5500\n",
            "Epoch 6/25\n",
            "100/100 [==============================] - 18s 178ms/step - loss: 0.6691 - acc: 0.6270 - val_loss: 0.6234 - val_acc: 0.6400\n",
            "Epoch 7/25\n",
            "100/100 [==============================] - 18s 176ms/step - loss: 0.6086 - acc: 0.6811 - val_loss: 0.6295 - val_acc: 0.6470\n",
            "Epoch 8/25\n",
            "100/100 [==============================] - 18s 181ms/step - loss: 0.5943 - acc: 0.6835 - val_loss: 0.5810 - val_acc: 0.6970\n",
            "Epoch 9/25\n",
            "100/100 [==============================] - 18s 176ms/step - loss: 0.6066 - acc: 0.6707 - val_loss: 0.8924 - val_acc: 0.5580\n",
            "Epoch 10/25\n",
            "100/100 [==============================] - 18s 177ms/step - loss: 0.5976 - acc: 0.6721 - val_loss: 0.6233 - val_acc: 0.6230\n",
            "Epoch 11/25\n",
            "100/100 [==============================] - 18s 177ms/step - loss: 0.6011 - acc: 0.6699 - val_loss: 0.6374 - val_acc: 0.6830\n",
            "Epoch 12/25\n",
            "100/100 [==============================] - 18s 177ms/step - loss: 0.5882 - acc: 0.6924 - val_loss: 0.6886 - val_acc: 0.6570\n",
            "Epoch 13/25\n",
            "100/100 [==============================] - 18s 177ms/step - loss: 0.5783 - acc: 0.7065 - val_loss: 0.6446 - val_acc: 0.6740\n",
            "Epoch 14/25\n",
            "100/100 [==============================] - 18s 177ms/step - loss: 0.5445 - acc: 0.7251 - val_loss: 0.5675 - val_acc: 0.7010\n",
            "Epoch 15/25\n",
            "100/100 [==============================] - 18s 178ms/step - loss: 0.5494 - acc: 0.7134 - val_loss: 0.5205 - val_acc: 0.7350\n",
            "Epoch 16/25\n",
            "100/100 [==============================] - 18s 177ms/step - loss: 0.5299 - acc: 0.7312 - val_loss: 0.5590 - val_acc: 0.7300\n",
            "Epoch 17/25\n",
            "100/100 [==============================] - 18s 177ms/step - loss: 0.5375 - acc: 0.7313 - val_loss: 0.6328 - val_acc: 0.6570\n",
            "Epoch 18/25\n",
            "100/100 [==============================] - 18s 177ms/step - loss: 0.5437 - acc: 0.7240 - val_loss: 0.6885 - val_acc: 0.7090\n",
            "Epoch 19/25\n",
            "100/100 [==============================] - 18s 180ms/step - loss: 0.5207 - acc: 0.7461 - val_loss: 0.4742 - val_acc: 0.7780\n",
            "Epoch 20/25\n",
            "100/100 [==============================] - 18s 178ms/step - loss: 0.5231 - acc: 0.7348 - val_loss: 0.5528 - val_acc: 0.7120\n",
            "Epoch 21/25\n",
            "100/100 [==============================] - 18s 177ms/step - loss: 0.4979 - acc: 0.7451 - val_loss: 0.5471 - val_acc: 0.7410\n",
            "Epoch 22/25\n",
            "100/100 [==============================] - 18s 176ms/step - loss: 0.4928 - acc: 0.7585 - val_loss: 0.5876 - val_acc: 0.6940\n",
            "Epoch 23/25\n",
            "100/100 [==============================] - 18s 177ms/step - loss: 0.4861 - acc: 0.7816 - val_loss: 1.0358 - val_acc: 0.6060\n",
            "Epoch 24/25\n",
            "100/100 [==============================] - 18s 177ms/step - loss: 0.4935 - acc: 0.7660 - val_loss: 0.5612 - val_acc: 0.7130\n",
            "Epoch 25/25\n",
            "100/100 [==============================] - 18s 178ms/step - loss: 0.4509 - acc: 0.7823 - val_loss: 0.5531 - val_acc: 0.7090\n"
          ],
          "name": "stdout"
        }
      ]
    },
    {
      "cell_type": "markdown",
      "metadata": {
        "id": "BRdU5yrkUF_b"
      },
      "source": [
        "# Task 2:\n",
        "\n",
        "We have used Dropout to enhance the performance of the CNN model. Can you please use whatever you like to further enhance the performance from `val_acc: 0.7506`? "
      ]
    },
    {
      "cell_type": "markdown",
      "metadata": {
        "id": "MJUReQSY-yGa"
      },
      "source": [
        "Epoch 19/25\n",
        "100/100 [==============================] - 18s 180ms/step - loss: 0.5207 - acc: 0.7461 - val_loss: 0.4742 - val_acc: 0.7780"
      ]
    }
  ]
}